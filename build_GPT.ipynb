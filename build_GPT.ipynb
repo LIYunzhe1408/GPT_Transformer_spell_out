{
  "nbformat": 4,
  "nbformat_minor": 0,
  "metadata": {
    "colab": {
      "provenance": [],
      "authorship_tag": "ABX9TyN2OnKRMh9zNvnZw1nFTuMT",
      "include_colab_link": true
    },
    "kernelspec": {
      "name": "python3",
      "display_name": "Python 3"
    },
    "language_info": {
      "name": "python"
    }
  },
  "cells": [
    {
      "cell_type": "markdown",
      "metadata": {
        "id": "view-in-github",
        "colab_type": "text"
      },
      "source": [
        "<a href=\"https://colab.research.google.com/github/LIYunzhe1408/GPT_Transformer_spell_out/blob/main/build_GPT.ipynb\" target=\"_parent\"><img src=\"https://colab.research.google.com/assets/colab-badge.svg\" alt=\"Open In Colab\"/></a>"
      ]
    },
    {
      "cell_type": "markdown",
      "source": [
        "## Download the dataset\n",
        "Download a tiny dataset and peak it"
      ],
      "metadata": {
        "id": "n1JCLMZ_KMFX"
      }
    },
    {
      "cell_type": "code",
      "execution_count": 1,
      "metadata": {
        "colab": {
          "base_uri": "https://localhost:8080/"
        },
        "id": "KmM2yv-VJ8P-",
        "outputId": "b1121d33-6161-4237-c6c2-5f5d83647038"
      },
      "outputs": [
        {
          "output_type": "stream",
          "name": "stdout",
          "text": [
            "--2025-10-27 04:13:51--  https://raw.githubusercontent.com/karpathy/char-rnn/master/data/tinyshakespeare/input.txt\n",
            "Resolving raw.githubusercontent.com (raw.githubusercontent.com)... 185.199.108.133, 185.199.109.133, 185.199.110.133, ...\n",
            "Connecting to raw.githubusercontent.com (raw.githubusercontent.com)|185.199.108.133|:443... connected.\n",
            "HTTP request sent, awaiting response... 200 OK\n",
            "Length: 1115394 (1.1M) [text/plain]\n",
            "Saving to: ‘input.txt’\n",
            "\n",
            "input.txt           100%[===================>]   1.06M  --.-KB/s    in 0.05s   \n",
            "\n",
            "2025-10-27 04:13:52 (21.6 MB/s) - ‘input.txt’ saved [1115394/1115394]\n",
            "\n"
          ]
        }
      ],
      "source": [
        "!wget https://raw.githubusercontent.com/karpathy/char-rnn/master/data/tinyshakespeare/input.txt"
      ]
    },
    {
      "cell_type": "code",
      "source": [
        "with open('input.txt', 'r', encoding='utf-8') as f:\n",
        "    text = f.read()"
      ],
      "metadata": {
        "id": "zYeTcpYJKXzF"
      },
      "execution_count": 2,
      "outputs": []
    },
    {
      "cell_type": "code",
      "source": [
        "print(\"length of dataset in characters: \", len(text))"
      ],
      "metadata": {
        "colab": {
          "base_uri": "https://localhost:8080/"
        },
        "id": "fHuyL2DJKh0Y",
        "outputId": "e3f118a3-f444-46b8-eef8-d3681a4d530f"
      },
      "execution_count": 3,
      "outputs": [
        {
          "output_type": "stream",
          "name": "stdout",
          "text": [
            "length of dataset in characters:  1115394\n"
          ]
        }
      ]
    },
    {
      "cell_type": "code",
      "source": [
        "print(text[:1000])"
      ],
      "metadata": {
        "colab": {
          "base_uri": "https://localhost:8080/"
        },
        "id": "8HMtcLP1KmBo",
        "outputId": "530385c9-5e58-4844-8754-c053bdaf0905"
      },
      "execution_count": 6,
      "outputs": [
        {
          "output_type": "stream",
          "name": "stdout",
          "text": [
            "First Citizen:\n",
            "Before we proceed any further, hear me speak.\n",
            "\n",
            "All:\n",
            "Speak, speak.\n",
            "\n",
            "First Citizen:\n",
            "You are all resolved rather to die than to famish?\n",
            "\n",
            "All:\n",
            "Resolved. resolved.\n",
            "\n",
            "First Citizen:\n",
            "First, you know Caius Marcius is chief enemy to the people.\n",
            "\n",
            "All:\n",
            "We know't, we know't.\n",
            "\n",
            "First Citizen:\n",
            "Let us kill him, and we'll have corn at our own price.\n",
            "Is't a verdict?\n",
            "\n",
            "All:\n",
            "No more talking on't; let it be done: away, away!\n",
            "\n",
            "Second Citizen:\n",
            "One word, good citizens.\n",
            "\n",
            "First Citizen:\n",
            "We are accounted poor citizens, the patricians good.\n",
            "What authority surfeits on would relieve us: if they\n",
            "would yield us but the superfluity, while it were\n",
            "wholesome, we might guess they relieved us humanely;\n",
            "but they think we are too dear: the leanness that\n",
            "afflicts us, the object of our misery, is as an\n",
            "inventory to particularise their abundance; our\n",
            "sufferance is a gain to them Let us revenge this with\n",
            "our pikes, ere we become rakes: for the gods know I\n",
            "speak this in hunger for bread, not in thirst for revenge.\n",
            "\n",
            "\n"
          ]
        }
      ]
    },
    {
      "cell_type": "markdown",
      "source": [
        "## Vocab & Tokenization"
      ],
      "metadata": {
        "id": "Y2e-525W4IVV"
      }
    },
    {
      "cell_type": "markdown",
      "source": [
        "Create the vocabulary of this dataset.\n",
        "\n",
        "All the unique characters in this text. Possible characters the model can see and imitate."
      ],
      "metadata": {
        "id": "Zd7502AXLXpW"
      }
    },
    {
      "cell_type": "code",
      "source": [
        "characters = sorted(list(set(text)))\n",
        "vocab_size = len(characters)\n",
        "print(''.join(characters))\n",
        "print(vocab_size)"
      ],
      "metadata": {
        "id": "9b1kqzRP4QiD",
        "outputId": "484eeb5b-6b9c-4752-b5a9-16b253652b1b",
        "colab": {
          "base_uri": "https://localhost:8080/"
        }
      },
      "execution_count": 16,
      "outputs": [
        {
          "output_type": "stream",
          "name": "stdout",
          "text": [
            "\n",
            " !$&',-.3:;?ABCDEFGHIJKLMNOPQRSTUVWXYZabcdefghijklmnopqrstuvwxyz\n",
            "65\n"
          ]
        }
      ]
    },
    {
      "cell_type": "markdown",
      "source": [
        "Convert the raw text to some sequence of integers according to the vocabulary of all possible elements.\n",
        "\n",
        "> Short sequences of integers with very large vocabularies V.S. Long sequences of integers with small vocabularies\n",
        "\n",
        "`hii there`\n",
        "* Basic mapping with all characters: 2, 46, 46, 1, 52, 2, 12, 54, 12 with only 65 vocabularies.\n",
        "* Tiktoken: 71, 4178, 612 with 50257 vocabularies.\n",
        "\n"
      ],
      "metadata": {
        "id": "KDihfZybLkhM"
      }
    },
    {
      "cell_type": "code",
      "source": [
        "itos = {i: ch for i, ch in enumerate(characters)}\n",
        "stoi = {ch: i for i, ch in itos.items()}\n",
        "encode = lambda string: [stoi[ch] for ch in string] # Encoder: take a string, output a list of integers\n",
        "decode = lambda integers: ''.join([itos[i] for i in integers]) # Decoder: take a list of integers, output a string\n",
        "\n",
        "print(encode(\"hii there\"))\n",
        "print(decode(encode(\"hii, there\")))"
      ],
      "metadata": {
        "id": "Eops5pw25TXy",
        "outputId": "c1f7626d-3d94-4182-a0e1-0262d4e1ca78",
        "colab": {
          "base_uri": "https://localhost:8080/"
        }
      },
      "execution_count": 18,
      "outputs": [
        {
          "output_type": "stream",
          "name": "stdout",
          "text": [
            "[46, 47, 47, 1, 58, 46, 43, 56, 43]\n",
            "hii, there\n"
          ]
        }
      ]
    },
    {
      "cell_type": "code",
      "source": [
        "# Encode the text and store it in to a torch.tensor\n",
        "import torch\n",
        "data = torch.tensor(encode(text), dtype=torch.long)\n",
        "print(data.shape, data.dtype)\n",
        "print(data[:100])"
      ],
      "metadata": {
        "id": "ml8lF1Ee-rOr",
        "outputId": "00873489-d839-4035-9631-6d2369214f96",
        "colab": {
          "base_uri": "https://localhost:8080/"
        }
      },
      "execution_count": 22,
      "outputs": [
        {
          "output_type": "stream",
          "name": "stdout",
          "text": [
            "torch.Size([1115394]) torch.int64\n",
            "tensor([18, 47, 56, 57, 58,  1, 15, 47, 58, 47, 64, 43, 52, 10,  0, 14, 43, 44,\n",
            "        53, 56, 43,  1, 61, 43,  1, 54, 56, 53, 41, 43, 43, 42,  1, 39, 52, 63,\n",
            "         1, 44, 59, 56, 58, 46, 43, 56,  6,  1, 46, 43, 39, 56,  1, 51, 43,  1,\n",
            "        57, 54, 43, 39, 49,  8,  0,  0, 13, 50, 50, 10,  0, 31, 54, 43, 39, 49,\n",
            "         6,  1, 57, 54, 43, 39, 49,  8,  0,  0, 18, 47, 56, 57, 58,  1, 15, 47,\n",
            "        58, 47, 64, 43, 52, 10,  0, 37, 53, 59])\n"
          ]
        }
      ]
    },
    {
      "cell_type": "markdown",
      "source": [
        "## Split train and val\n",
        "- First 90% of the `training` dataset\n",
        "- Last 10% as the `validation` dataset"
      ],
      "metadata": {
        "id": "s9iO10qkV2i_"
      }
    },
    {
      "cell_type": "code",
      "source": [
        "n = int(0.9 * len(data))\n",
        "train_data = data[:n]\n",
        "val_data   = data[n:]\n",
        "print(len(train_data), len(val_data))"
      ],
      "metadata": {
        "id": "_kLANqkP_Igu",
        "outputId": "11d6e333-8bab-4b24-9871-b1eeeb3c8d7c",
        "colab": {
          "base_uri": "https://localhost:8080/"
        }
      },
      "execution_count": 24,
      "outputs": [
        {
          "output_type": "stream",
          "name": "stdout",
          "text": [
            "1003854 111540\n"
          ]
        }
      ]
    },
    {
      "cell_type": "markdown",
      "source": [
        "## Data Loader\n",
        "1. Time dimension\n",
        "  - How many characters the model can receive: block size.\n",
        "  - The model can generate answers starting from as little as one context character to block_size length. Because during the training process, the model is set to train across limit. Over that limit, the model will chunk the data and will not be able to receive."
      ],
      "metadata": {
        "id": "GIhbwpzyXzF4"
      }
    },
    {
      "cell_type": "code",
      "source": [
        "block_size = 8\n",
        "x = train_data[:block_size]\n",
        "y = train_data[1:block_size+1]\n",
        "for t in range(block_size):\n",
        "  context = x[:t+1]\n",
        "  target = y[t]\n",
        "  print(context, \"--->\", target.item())"
      ],
      "metadata": {
        "id": "o6WkHM_m_bnH",
        "outputId": "77a0d3b9-2724-4115-c175-0185e852609f",
        "colab": {
          "base_uri": "https://localhost:8080/"
        }
      },
      "execution_count": 38,
      "outputs": [
        {
          "output_type": "stream",
          "name": "stdout",
          "text": [
            "tensor([18]) ---> 47\n",
            "tensor([18, 47]) ---> 56\n",
            "tensor([18, 47, 56]) ---> 57\n",
            "tensor([18, 47, 56, 57]) ---> 58\n",
            "tensor([18, 47, 56, 57, 58]) ---> 1\n",
            "tensor([18, 47, 56, 57, 58,  1]) ---> 15\n",
            "tensor([18, 47, 56, 57, 58,  1, 15]) ---> 47\n",
            "tensor([18, 47, 56, 57, 58,  1, 15, 47]) ---> 58\n"
          ]
        }
      ]
    },
    {
      "cell_type": "markdown",
      "source": [
        "2. Batch dimension\n",
        "  - Multiple chunks of text will stack up in a single tensor. This is done for efficiency to keep the gpus busy to process data parallel.\n",
        "  - Batch size: how many independent sequences will we process in parallel?\n",
        "  - Block size: what is the maximum context length for predictions?"
      ],
      "metadata": {
        "id": "yv2cRvzQZuXm"
      }
    },
    {
      "cell_type": "code",
      "source": [
        "torch.manual_seed(1337)\n",
        "batch_size = 4\n",
        "block_size = 8\n",
        "\n",
        "def get_batch(split):\n",
        "  data = train_data if split == 'train' else val_data\n",
        "  index_x = torch.randint(len(data) - block_size, (batch_size,))\n",
        "  xb = torch.stack([data[i:i+block_size] for i in index_x])\n",
        "  yb = torch.stack([data[i+1:i+block_size+1] for i in index_x])\n",
        "  return xb, yb\n",
        "\n",
        "xb, yb = get_batch(\"train\")\n",
        "print(\"Inputs: \")\n",
        "print(xb.shape)\n",
        "print(xb)\n",
        "print(\"Targets: \")\n",
        "print(yb.shape)\n",
        "print(yb)\n",
        "\n",
        "# Given multiple/single character as context\n",
        "# Output one next character\n",
        "for b in range(batch_size):\n",
        "  print(f\"The {b}-th sample in this batch\")\n",
        "  for t in range(block_size):\n",
        "    context = xb[b, :t+1]\n",
        "    target = yb[b, t]\n",
        "    print(f\"When the input is {context} ---> targert is {target.item()}\")\n",
        "  print(\"--------------------------------------\")"
      ],
      "metadata": {
        "id": "2lW8KtQIA4ul",
        "outputId": "f2138552-ce5a-4ef7-8397-0ce1bb491e31",
        "colab": {
          "base_uri": "https://localhost:8080/"
        }
      },
      "execution_count": 51,
      "outputs": [
        {
          "output_type": "stream",
          "name": "stdout",
          "text": [
            "Inputs: \n",
            "torch.Size([4, 8])\n",
            "tensor([[24, 43, 58,  5, 57,  1, 46, 43],\n",
            "        [44, 53, 56,  1, 58, 46, 39, 58],\n",
            "        [52, 58,  1, 58, 46, 39, 58,  1],\n",
            "        [25, 17, 27, 10,  0, 21,  1, 54]])\n",
            "Targets: \n",
            "torch.Size([4, 8])\n",
            "tensor([[43, 58,  5, 57,  1, 46, 43, 39],\n",
            "        [53, 56,  1, 58, 46, 39, 58,  1],\n",
            "        [58,  1, 58, 46, 39, 58,  1, 46],\n",
            "        [17, 27, 10,  0, 21,  1, 54, 39]])\n",
            "The 0-th sample in this batch\n",
            "When the input is tensor([24]) ---> targert is 43\n",
            "When the input is tensor([24, 43]) ---> targert is 58\n",
            "When the input is tensor([24, 43, 58]) ---> targert is 5\n",
            "When the input is tensor([24, 43, 58,  5]) ---> targert is 57\n",
            "When the input is tensor([24, 43, 58,  5, 57]) ---> targert is 1\n",
            "When the input is tensor([24, 43, 58,  5, 57,  1]) ---> targert is 46\n",
            "When the input is tensor([24, 43, 58,  5, 57,  1, 46]) ---> targert is 43\n",
            "When the input is tensor([24, 43, 58,  5, 57,  1, 46, 43]) ---> targert is 39\n",
            "--------------------------------------\n",
            "The 1-th sample in this batch\n",
            "When the input is tensor([44]) ---> targert is 53\n",
            "When the input is tensor([44, 53]) ---> targert is 56\n",
            "When the input is tensor([44, 53, 56]) ---> targert is 1\n",
            "When the input is tensor([44, 53, 56,  1]) ---> targert is 58\n",
            "When the input is tensor([44, 53, 56,  1, 58]) ---> targert is 46\n",
            "When the input is tensor([44, 53, 56,  1, 58, 46]) ---> targert is 39\n",
            "When the input is tensor([44, 53, 56,  1, 58, 46, 39]) ---> targert is 58\n",
            "When the input is tensor([44, 53, 56,  1, 58, 46, 39, 58]) ---> targert is 1\n",
            "--------------------------------------\n",
            "The 2-th sample in this batch\n",
            "When the input is tensor([52]) ---> targert is 58\n",
            "When the input is tensor([52, 58]) ---> targert is 1\n",
            "When the input is tensor([52, 58,  1]) ---> targert is 58\n",
            "When the input is tensor([52, 58,  1, 58]) ---> targert is 46\n",
            "When the input is tensor([52, 58,  1, 58, 46]) ---> targert is 39\n",
            "When the input is tensor([52, 58,  1, 58, 46, 39]) ---> targert is 58\n",
            "When the input is tensor([52, 58,  1, 58, 46, 39, 58]) ---> targert is 1\n",
            "When the input is tensor([52, 58,  1, 58, 46, 39, 58,  1]) ---> targert is 46\n",
            "--------------------------------------\n",
            "The 3-th sample in this batch\n",
            "When the input is tensor([25]) ---> targert is 17\n",
            "When the input is tensor([25, 17]) ---> targert is 27\n",
            "When the input is tensor([25, 17, 27]) ---> targert is 10\n",
            "When the input is tensor([25, 17, 27, 10]) ---> targert is 0\n",
            "When the input is tensor([25, 17, 27, 10,  0]) ---> targert is 21\n",
            "When the input is tensor([25, 17, 27, 10,  0, 21]) ---> targert is 1\n",
            "When the input is tensor([25, 17, 27, 10,  0, 21,  1]) ---> targert is 54\n",
            "When the input is tensor([25, 17, 27, 10,  0, 21,  1, 54]) ---> targert is 39\n",
            "--------------------------------------\n"
          ]
        }
      ]
    },
    {
      "cell_type": "markdown",
      "source": [
        "# Baseline\n",
        "- bigram language model\n",
        "- loss\n",
        "- generation"
      ],
      "metadata": {
        "id": "_44sG4VCjnSR"
      }
    },
    {
      "cell_type": "code",
      "source": [
        "print(xb)"
      ],
      "metadata": {
        "id": "sDR2W2X7jjdO",
        "outputId": "b76f5477-e471-401a-b880-e21159259084",
        "colab": {
          "base_uri": "https://localhost:8080/"
        }
      },
      "execution_count": 52,
      "outputs": [
        {
          "output_type": "stream",
          "name": "stdout",
          "text": [
            "tensor([[24, 43, 58,  5, 57,  1, 46, 43],\n",
            "        [44, 53, 56,  1, 58, 46, 39, 58],\n",
            "        [52, 58,  1, 58, 46, 39, 58,  1],\n",
            "        [25, 17, 27, 10,  0, 21,  1, 54]])\n"
          ]
        }
      ]
    }
  ]
}